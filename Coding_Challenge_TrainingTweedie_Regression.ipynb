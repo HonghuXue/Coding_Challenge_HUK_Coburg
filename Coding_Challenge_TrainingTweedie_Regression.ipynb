{
  "nbformat": 4,
  "nbformat_minor": 0,
  "metadata": {
    "colab": {
      "provenance": []
    },
    "kernelspec": {
      "name": "python3",
      "display_name": "Python 3"
    },
    "language_info": {
      "name": "python"
    }
  },
  "cells": [
    {
      "cell_type": "code",
      "execution_count": 1,
      "metadata": {
        "colab": {
          "base_uri": "https://localhost:8080/"
        },
        "id": "mqF03oHgCQTL",
        "outputId": "c40f7a9b-0ec0-4120-d36f-4072e4bfd738"
      },
      "outputs": [
        {
          "output_type": "stream",
          "name": "stdout",
          "text": [
            "Collecting arff\n",
            "  Downloading arff-0.9.tar.gz (4.7 kB)\n",
            "  Preparing metadata (setup.py) ... \u001b[?25l\u001b[?25hdone\n",
            "Building wheels for collected packages: arff\n",
            "  Building wheel for arff (setup.py) ... \u001b[?25l\u001b[?25hdone\n",
            "  Created wheel for arff: filename=arff-0.9-py3-none-any.whl size=4950 sha256=439aaea544ad7eed059105741c15ecd512dc319c77b51505fe304a96f9354ea0\n",
            "  Stored in directory: /root/.cache/pip/wheels/0c/39/12/4d8ff491018bce2dd9cc6034298f27399c7f4fd4063187f7be\n",
            "Successfully built arff\n",
            "Installing collected packages: arff\n",
            "Successfully installed arff-0.9\n",
            "Collecting optuna\n",
            "  Downloading optuna-3.6.1-py3-none-any.whl (380 kB)\n",
            "\u001b[2K     \u001b[90m━━━━━━━━━━━━━━━━━━━━━━━━━━━━━━━━━━━━━━━━\u001b[0m \u001b[32m380.1/380.1 kB\u001b[0m \u001b[31m7.9 MB/s\u001b[0m eta \u001b[36m0:00:00\u001b[0m\n",
            "\u001b[?25hCollecting alembic>=1.5.0 (from optuna)\n",
            "  Downloading alembic-1.13.1-py3-none-any.whl (233 kB)\n",
            "\u001b[2K     \u001b[90m━━━━━━━━━━━━━━━━━━━━━━━━━━━━━━━━━━━━━━━━\u001b[0m \u001b[32m233.4/233.4 kB\u001b[0m \u001b[31m28.6 MB/s\u001b[0m eta \u001b[36m0:00:00\u001b[0m\n",
            "\u001b[?25hCollecting colorlog (from optuna)\n",
            "  Downloading colorlog-6.8.2-py3-none-any.whl (11 kB)\n",
            "Requirement already satisfied: numpy in /usr/local/lib/python3.10/dist-packages (from optuna) (1.25.2)\n",
            "Requirement already satisfied: packaging>=20.0 in /usr/local/lib/python3.10/dist-packages (from optuna) (24.0)\n",
            "Requirement already satisfied: sqlalchemy>=1.3.0 in /usr/local/lib/python3.10/dist-packages (from optuna) (2.0.29)\n",
            "Requirement already satisfied: tqdm in /usr/local/lib/python3.10/dist-packages (from optuna) (4.66.2)\n",
            "Requirement already satisfied: PyYAML in /usr/local/lib/python3.10/dist-packages (from optuna) (6.0.1)\n",
            "Collecting Mako (from alembic>=1.5.0->optuna)\n",
            "  Downloading Mako-1.3.3-py3-none-any.whl (78 kB)\n",
            "\u001b[2K     \u001b[90m━━━━━━━━━━━━━━━━━━━━━━━━━━━━━━━━━━━━━━━━\u001b[0m \u001b[32m78.8/78.8 kB\u001b[0m \u001b[31m12.8 MB/s\u001b[0m eta \u001b[36m0:00:00\u001b[0m\n",
            "\u001b[?25hRequirement already satisfied: typing-extensions>=4 in /usr/local/lib/python3.10/dist-packages (from alembic>=1.5.0->optuna) (4.11.0)\n",
            "Requirement already satisfied: greenlet!=0.4.17 in /usr/local/lib/python3.10/dist-packages (from sqlalchemy>=1.3.0->optuna) (3.0.3)\n",
            "Requirement already satisfied: MarkupSafe>=0.9.2 in /usr/local/lib/python3.10/dist-packages (from Mako->alembic>=1.5.0->optuna) (2.1.5)\n",
            "Installing collected packages: Mako, colorlog, alembic, optuna\n",
            "Successfully installed Mako-1.3.3 alembic-1.13.1 colorlog-6.8.2 optuna-3.6.1\n"
          ]
        }
      ],
      "source": [
        "!pip install arff\n",
        "!pip install optuna"
      ]
    },
    {
      "cell_type": "code",
      "source": [
        "import pandas as pd\n",
        "import arff\n",
        "import numpy as np\n",
        "import matplotlib.pyplot as plt\n",
        "from sklearn import preprocessing\n",
        "from sklearn.compose import ColumnTransformer\n",
        "from sklearn.pipeline import Pipeline\n",
        "from sklearn.linear_model import LinearRegression, TweedieRegressor\n",
        "import optuna\n",
        "from sklearn.model_selection import cross_val_score, KFold\n",
        "from sklearn.metrics import mean_squared_error, make_scorer, mean_absolute_error\n",
        "import seaborn as sns"
      ],
      "metadata": {
        "id": "FV8lK1DQDFYh"
      },
      "execution_count": 3,
      "outputs": []
    },
    {
      "cell_type": "markdown",
      "source": [
        "Load Data"
      ],
      "metadata": {
        "id": "hiiZ4cFzDNS9"
      }
    },
    {
      "cell_type": "code",
      "source": [
        "data_freq = arff.load('freMTPL2freq.arff')\n",
        "df_freq = pd.DataFrame(data_freq, columns=[\"IDpol\", \"ClaimNb\", \"Exposure\", \"Area\", \"VehPower\", \"VehAge\", \"DrivAge\", \"BonusMalus\", \"VehBrand\", \"VehGas\", \"Density\", \"Region\"])\n",
        "data_sev = arff.load('freMTPL2sev.arff')\n",
        "df_sev = pd.DataFrame(data_sev, columns=[\"IDpol\", \"ClaimAmount\"])\n",
        "del data_freq, data_sev"
      ],
      "metadata": {
        "id": "Bt30bC8jDKyv"
      },
      "execution_count": 4,
      "outputs": []
    },
    {
      "cell_type": "code",
      "source": [
        "# First sum up the \"ClaimAmount\" with duplicate entries of \"IDpol\".\n",
        "df_sev = df_sev.groupby(\"IDpol\", as_index=False).agg({'ClaimAmount': 'sum'})\n",
        "\n",
        "# There are some nan features in df_freq with some \"IDpol\" in df_freq, which is directly cleaned,\n",
        "merged_df = pd.merge(df_freq, df_sev, on=\"IDpol\", how=\"outer\")\n",
        "merged_df[\"ClaimAmount\"] = merged_df[\"ClaimAmount\"].fillna(0)\n",
        "merged_df = merged_df.dropna(how=\"any\")\n",
        "merged_df = merged_df.drop(['IDpol','ClaimNb'], axis = 1)"
      ],
      "metadata": {
        "id": "NHlmy-_-DPKX"
      },
      "execution_count": 5,
      "outputs": []
    },
    {
      "cell_type": "code",
      "source": [
        "# Hyper-parameters\n",
        "random_seed = 35\n",
        "np.random.seed(random_seed)\n",
        "input_standardization = True\n",
        "output_standardization = False\n",
        "feature_visualization = True\n"
      ],
      "metadata": {
        "id": "HvikXK-mDYCL"
      },
      "execution_count": 6,
      "outputs": []
    },
    {
      "cell_type": "markdown",
      "source": [
        "Feature Preprocessing"
      ],
      "metadata": {
        "id": "Gdc8EyzQD4VZ"
      }
    },
    {
      "cell_type": "code",
      "source": [
        "# Define the column transformer for handling different types of data\n",
        "preprocessor = ColumnTransformer(\n",
        "    transformers=[\n",
        "        ('num', preprocessing.MinMaxScaler(), [col for col in merged_df.columns if merged_df[col].dtype in [np.float64, np.float32] and col not in ['ClaimAmount', 'Exposure', 'IDpol', 'ClaimNb']]),\n",
        "        ('cat', preprocessing.OneHotEncoder(handle_unknown='ignore'), [col for col in merged_df.columns if merged_df[col].dtype == 'object']),\n",
        "    ],\n",
        "    remainder='drop'\n",
        ")\n",
        "\n",
        "# Exclude 'ClaimAmount' and 'Exposure' from any transformation if output_standardization is applied\n",
        "if output_standardization:\n",
        "    output_scaler = preprocessing.MinMaxScaler()\n",
        "claim_amount = merged_df.pop('ClaimAmount') / merged_df.pop('Exposure')  # Separate and transform this column separately\n",
        "\n",
        "# Create a processing pipeline\n",
        "pipeline = Pipeline(steps=[\n",
        "    ('preprocessor', preprocessor),\n",
        "    # ('output_scaler', output_scaler) if output_standardization else ('dummy', 'passthrough')\n",
        "])\n",
        "\n",
        "# Fit and transform the training data\n",
        "X = pipeline.fit_transform(merged_df)\n",
        "y = claim_amount\n",
        "\n",
        "\n",
        "# If there's output standardization, fit and transform 'ClaimAmount' specifically\n",
        "if output_standardization:\n",
        "    y = output_scaler.fit_transform(y.values.reshape(-1, 1))\n",
        "\n",
        "\n",
        "# Convert sparse Matrice representation of one-hot encoding to full representation\n",
        "X = X.toarray()\n",
        "print(X[0], X[0].shape)"
      ],
      "metadata": {
        "colab": {
          "base_uri": "https://localhost:8080/"
        },
        "id": "PHEcLtamDvCm",
        "outputId": "1c3539d7-0137-4817-f68c-79ec4c398498"
      },
      "execution_count": 7,
      "outputs": [
        {
          "output_type": "stream",
          "name": "stdout",
          "text": [
            "[0.09090909 0.         0.45121951 0.         0.04503871 0.\n",
            " 0.         0.         1.         0.         0.         0.\n",
            " 0.         0.         1.         0.         0.         0.\n",
            " 0.         0.         0.         0.         0.         1.\n",
            " 0.         0.         0.         0.         0.         0.\n",
            " 0.         0.         0.         0.         0.         0.\n",
            " 0.         0.         0.         0.         0.         1.\n",
            " 0.         0.         0.         0.        ] (46,)\n"
          ]
        }
      ]
    },
    {
      "cell_type": "markdown",
      "source": [
        "Define Optuna Objective Function for hyperparameter optimization"
      ],
      "metadata": {
        "id": "u-cSh-vsEBhR"
      }
    },
    {
      "cell_type": "code",
      "source": [
        "def objective(trial, X, y):\n",
        "    # Suggest values for the hyperparameters\n",
        "    power = trial.suggest_float('power', 1, 2)\n",
        "    alpha = trial.suggest_float('alpha', 1e-3, 10.0, log=True)  # Regularization strength\n",
        "    solver = trial.suggest_categorical('solver', ['lbfgs', 'newton-cholesky'])\n",
        "    # Create a model with suggested hyperparameters\n",
        "    model = TweedieRegressor(power=power, alpha=alpha, solver=solver, max_iter= 300)\n",
        "    # Perform 5-fold cross-validation\n",
        "    kf = KFold(n_splits=5, shuffle=True, random_state=random_seed)\n",
        "    scores = cross_val_score(model, X, y, cv=kf, scoring=make_scorer(mean_squared_error))\n",
        "    # Compute RMSE from scores\n",
        "    rmse = (scores.mean()) ** 0.5\n",
        "    return rmse\n",
        "\n",
        "def objective_wrapper(trial):\n",
        "    return objective(trial, X, y)"
      ],
      "metadata": {
        "id": "jarwex7VD-Ky"
      },
      "execution_count": 8,
      "outputs": []
    },
    {
      "cell_type": "markdown",
      "source": [
        "Call Optuna for Hyper-parameter Optimization\n",
        "Assign the incumbent setting to the model"
      ],
      "metadata": {
        "id": "PoO85PXgEMqj"
      }
    },
    {
      "cell_type": "code",
      "source": [
        "study = optuna.create_study(direction='minimize')\n",
        "study.optimize(objective_wrapper, n_trials=10)\n",
        "\n",
        "# Best trial result\n",
        "print(f\"Best trial: {study.best_trial.value}\")\n",
        "print(f\"Best parameters: {study.best_trial.params}\")\n",
        "best_params = study.best_params.copy()\n",
        "\n",
        "model = TweedieRegressor(**best_params)\n",
        "model.fit(X,y)"
      ],
      "metadata": {
        "colab": {
          "base_uri": "https://localhost:8080/",
          "height": 268
        },
        "id": "n3lgX1FgEGZC",
        "outputId": "859b5d1d-fef1-4a35-8080-ac6d5c6583fc"
      },
      "execution_count": 9,
      "outputs": [
        {
          "output_type": "stream",
          "name": "stderr",
          "text": [
            "[I 2024-05-01 21:36:01,811] A new study created in memory with name: no-name-2539cfcd-eb11-48e8-8c4d-0e1af012bf80\n",
            "[I 2024-05-01 21:37:35,761] Trial 0 finished with value: 36820.537207231544 and parameters: {'power': 1.0499725434550211, 'alpha': 0.04515810515320362, 'solver': 'lbfgs'}. Best is trial 0 with value: 36820.537207231544.\n"
          ]
        },
        {
          "output_type": "stream",
          "name": "stdout",
          "text": [
            "Best trial: 36820.537207231544\n",
            "Best parameters: {'power': 1.0499725434550211, 'alpha': 0.04515810515320362, 'solver': 'lbfgs'}\n"
          ]
        },
        {
          "output_type": "stream",
          "name": "stderr",
          "text": [
            "/usr/local/lib/python3.10/dist-packages/sklearn/linear_model/_glm/glm.py:284: ConvergenceWarning: lbfgs failed to converge (status=1):\n",
            "STOP: TOTAL NO. of ITERATIONS REACHED LIMIT.\n",
            "\n",
            "Increase the number of iterations (max_iter) or scale the data as shown in:\n",
            "    https://scikit-learn.org/stable/modules/preprocessing.html\n",
            "  self.n_iter_ = _check_optimize_result(\"lbfgs\", opt_res)\n"
          ]
        },
        {
          "output_type": "execute_result",
          "data": {
            "text/plain": [
              "TweedieRegressor(alpha=0.04515810515320362, power=1.0499725434550211)"
            ],
            "text/html": [
              "<style>#sk-container-id-1 {color: black;background-color: white;}#sk-container-id-1 pre{padding: 0;}#sk-container-id-1 div.sk-toggleable {background-color: white;}#sk-container-id-1 label.sk-toggleable__label {cursor: pointer;display: block;width: 100%;margin-bottom: 0;padding: 0.3em;box-sizing: border-box;text-align: center;}#sk-container-id-1 label.sk-toggleable__label-arrow:before {content: \"▸\";float: left;margin-right: 0.25em;color: #696969;}#sk-container-id-1 label.sk-toggleable__label-arrow:hover:before {color: black;}#sk-container-id-1 div.sk-estimator:hover label.sk-toggleable__label-arrow:before {color: black;}#sk-container-id-1 div.sk-toggleable__content {max-height: 0;max-width: 0;overflow: hidden;text-align: left;background-color: #f0f8ff;}#sk-container-id-1 div.sk-toggleable__content pre {margin: 0.2em;color: black;border-radius: 0.25em;background-color: #f0f8ff;}#sk-container-id-1 input.sk-toggleable__control:checked~div.sk-toggleable__content {max-height: 200px;max-width: 100%;overflow: auto;}#sk-container-id-1 input.sk-toggleable__control:checked~label.sk-toggleable__label-arrow:before {content: \"▾\";}#sk-container-id-1 div.sk-estimator input.sk-toggleable__control:checked~label.sk-toggleable__label {background-color: #d4ebff;}#sk-container-id-1 div.sk-label input.sk-toggleable__control:checked~label.sk-toggleable__label {background-color: #d4ebff;}#sk-container-id-1 input.sk-hidden--visually {border: 0;clip: rect(1px 1px 1px 1px);clip: rect(1px, 1px, 1px, 1px);height: 1px;margin: -1px;overflow: hidden;padding: 0;position: absolute;width: 1px;}#sk-container-id-1 div.sk-estimator {font-family: monospace;background-color: #f0f8ff;border: 1px dotted black;border-radius: 0.25em;box-sizing: border-box;margin-bottom: 0.5em;}#sk-container-id-1 div.sk-estimator:hover {background-color: #d4ebff;}#sk-container-id-1 div.sk-parallel-item::after {content: \"\";width: 100%;border-bottom: 1px solid gray;flex-grow: 1;}#sk-container-id-1 div.sk-label:hover label.sk-toggleable__label {background-color: #d4ebff;}#sk-container-id-1 div.sk-serial::before {content: \"\";position: absolute;border-left: 1px solid gray;box-sizing: border-box;top: 0;bottom: 0;left: 50%;z-index: 0;}#sk-container-id-1 div.sk-serial {display: flex;flex-direction: column;align-items: center;background-color: white;padding-right: 0.2em;padding-left: 0.2em;position: relative;}#sk-container-id-1 div.sk-item {position: relative;z-index: 1;}#sk-container-id-1 div.sk-parallel {display: flex;align-items: stretch;justify-content: center;background-color: white;position: relative;}#sk-container-id-1 div.sk-item::before, #sk-container-id-1 div.sk-parallel-item::before {content: \"\";position: absolute;border-left: 1px solid gray;box-sizing: border-box;top: 0;bottom: 0;left: 50%;z-index: -1;}#sk-container-id-1 div.sk-parallel-item {display: flex;flex-direction: column;z-index: 1;position: relative;background-color: white;}#sk-container-id-1 div.sk-parallel-item:first-child::after {align-self: flex-end;width: 50%;}#sk-container-id-1 div.sk-parallel-item:last-child::after {align-self: flex-start;width: 50%;}#sk-container-id-1 div.sk-parallel-item:only-child::after {width: 0;}#sk-container-id-1 div.sk-dashed-wrapped {border: 1px dashed gray;margin: 0 0.4em 0.5em 0.4em;box-sizing: border-box;padding-bottom: 0.4em;background-color: white;}#sk-container-id-1 div.sk-label label {font-family: monospace;font-weight: bold;display: inline-block;line-height: 1.2em;}#sk-container-id-1 div.sk-label-container {text-align: center;}#sk-container-id-1 div.sk-container {/* jupyter's `normalize.less` sets `[hidden] { display: none; }` but bootstrap.min.css set `[hidden] { display: none !important; }` so we also need the `!important` here to be able to override the default hidden behavior on the sphinx rendered scikit-learn.org. See: https://github.com/scikit-learn/scikit-learn/issues/21755 */display: inline-block !important;position: relative;}#sk-container-id-1 div.sk-text-repr-fallback {display: none;}</style><div id=\"sk-container-id-1\" class=\"sk-top-container\"><div class=\"sk-text-repr-fallback\"><pre>TweedieRegressor(alpha=0.04515810515320362, power=1.0499725434550211)</pre><b>In a Jupyter environment, please rerun this cell to show the HTML representation or trust the notebook. <br />On GitHub, the HTML representation is unable to render, please try loading this page with nbviewer.org.</b></div><div class=\"sk-container\" hidden><div class=\"sk-item\"><div class=\"sk-estimator sk-toggleable\"><input class=\"sk-toggleable__control sk-hidden--visually\" id=\"sk-estimator-id-1\" type=\"checkbox\" checked><label for=\"sk-estimator-id-1\" class=\"sk-toggleable__label sk-toggleable__label-arrow\">TweedieRegressor</label><div class=\"sk-toggleable__content\"><pre>TweedieRegressor(alpha=0.04515810515320362, power=1.0499725434550211)</pre></div></div></div></div></div>"
            ]
          },
          "metadata": {},
          "execution_count": 9
        }
      ]
    },
    {
      "cell_type": "markdown",
      "source": [
        "Visualize the feature weight"
      ],
      "metadata": {
        "id": "A3Y__6bAE0le"
      }
    },
    {
      "cell_type": "code",
      "source": [
        "# Get feature names from the column transformer\n",
        "feature_names = preprocessor.get_feature_names_out()\n",
        "# print(\"New Feature Names:\", feature_names)\n",
        "\n",
        "# Plot feature importance\n",
        "plt.figure()\n",
        "# plt.bar(range(len(feature_importances)), feature_importances, alpha=0.7)\n",
        "\n",
        "# Step to categorize and average gradients\n",
        "feature_groups = {}\n",
        "for name, weight in zip(feature_names, model.coef_):\n",
        "    # Parse the feature name to find the base feature (before one-hot encoding)\n",
        "    if '__' in name:\n",
        "        base_name = name.split('__')[1].split('_')[0]\n",
        "        if base_name not in feature_groups:\n",
        "            feature_groups[base_name] = []\n",
        "        feature_groups[base_name].append(abs(weight))\n",
        "\n",
        "# Calculating the mean gradient for each original feature\n",
        "mean_weights = {feature: np.mean(weight)  for feature, weight in feature_groups.items()}\n",
        "\n",
        "# Sorting for better visualization\n",
        "sorted_features = sorted(mean_weights, key=mean_weights.get, reverse=True)\n",
        "sorted_importances = [mean_weights[feature] for feature in sorted_features]\n",
        "\n",
        "\n",
        "plt.barh(sorted_features, sorted_importances, color='skyblue')\n",
        "plt.ylabel('Feature Index')\n",
        "plt.xlabel('Importance')\n",
        "plt.title('Feature Importance from Tweedie Regression')\n",
        "plt.show()"
      ],
      "metadata": {
        "colab": {
          "base_uri": "https://localhost:8080/",
          "height": 472
        },
        "id": "PYpsKjEeFWeU",
        "outputId": "87a5178b-d685-43b9-ea5e-9451486cce92"
      },
      "execution_count": 10,
      "outputs": [
        {
          "output_type": "display_data",
          "data": {
            "text/plain": [
              "<Figure size 640x480 with 1 Axes>"
            ],
            "image/png": "[encoded data removed]"
          },
          "metadata": {}
        }
      ]
    }
  ]
}